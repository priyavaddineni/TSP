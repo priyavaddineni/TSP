{
 "cells": [
  {
   "cell_type": "markdown",
   "metadata": {},
   "source": [
    "### Genetic Algorithm"
   ]
  },
  {
   "cell_type": "code",
   "execution_count": 9,
   "metadata": {},
   "outputs": [],
   "source": [
    "import gzip\n",
    "import csv\n",
    "import math\n",
    "import time\n",
    "import numpy as np\n",
    "import matplotlib.pyplot as plt\n",
    "from matplotlib.animation import FuncAnimation\n",
    "from sys import maxsize"
   ]
  },
  {
   "cell_type": "code",
   "execution_count": 10,
   "metadata": {},
   "outputs": [],
   "source": [
    "def readData(filename):\n",
    "    \n",
    "    data = []\n",
    "    with gzip.open(filename, 'rt') as f:\n",
    "\n",
    "        tsv_reader = csv.reader(f, delimiter=\"\\t\")\n",
    "        row = next(tsv_reader)\n",
    "        \n",
    "        while(row != ['EOF']):\n",
    "            if row[0][0].isdigit():\n",
    "                elements = row[0].split(\" \")\n",
    "                final = []\n",
    "                for ele in elements:\n",
    "                    if ele != '':\n",
    "                        final.append(ele)\n",
    "\n",
    "                data.append([float(final[1]), float(final[2])])\n",
    "            row = next(tsv_reader)\n",
    "            \n",
    "    data = np.array(data)\n",
    "    \n",
    "    return data"
   ]
  },
  {
   "cell_type": "code",
   "execution_count": 11,
   "metadata": {},
   "outputs": [],
   "source": [
    "def length_of_tour(Initial_tour, distance):\n",
    "    round_tour = Initial_tour[1:]\n",
    "    round_tour.append(Initial_tour[0])\n",
    "    \n",
    "    total_distance = 0\n",
    "    \n",
    "    for i, j in zip(Initial_tour, round_tour):\n",
    "        total_distance += distance[i][j]\n",
    "        \n",
    "    return total_distance"
   ]
  },
  {
   "cell_type": "code",
   "execution_count": 12,
   "metadata": {},
   "outputs": [],
   "source": [
    "from random import random, sample, randint\n",
    "\n",
    "def fittest_route(possible_routes):\n",
    "    global distance\n",
    "    fittest = possible_routes[0]\n",
    "    for route in possible_routes:\n",
    "        route.fitness_of_route\n",
    "        fittest.fitness_of_route\n",
    "        if route.route_fitness > fittest.route_fitness:\n",
    "            fittest = route\n",
    "    return fittest\n",
    "\n",
    "\n",
    "\n",
    "def parent1_genes(child, parent, length):\n",
    "    start_index = randint(0, len(parent)-length-1)\n",
    "    finish_index = start_index + length\n",
    "    for i in range(start_index, finish_index):\n",
    "        child.route[i] = parent[i]\n",
    "\n",
    "        \n",
    "def parent2_genes(child, parent):\n",
    "    j = 0\n",
    "    for i in range(0, len(parent)):\n",
    "        if child.route[i] == None:\n",
    "            while parent[j] in child.route:\n",
    "                j += 1\n",
    "            child.route[i] = parent[j]\n",
    "            j += 1\n",
    "\n",
    "            \n",
    "def crossover(parent1, parent2):\n",
    "    parent1_route = parent1.route\n",
    "    parent2_route = parent2.route\n",
    "    length = len(parent1_route)\n",
    "    child = Routes([None for _ in range(length)])\n",
    "    parent1_genes(child, parent1_route, length // 2)\n",
    "    parent2_genes(child, parent2_route)\n",
    "\n",
    "    return child\n",
    "\n",
    "\n",
    "def mutate(route, mutation_rate):\n",
    "    for i in range(len(route.route)):\n",
    "        if random() < mutation_rate:\n",
    "            swap = sample(route.route, 2)\n",
    "            index1 = route.route.index(swap[0])\n",
    "            index2 = route.route.index(swap[1])\n",
    "            route.route[index2], route.route[index1] = route.route[index1], route.route[index2]\n",
    "            route.route_length  = 0\n",
    "            route.route_fitness = 0\n",
    "    return route"
   ]
  },
  {
   "cell_type": "code",
   "execution_count": 13,
   "metadata": {},
   "outputs": [],
   "source": [
    "def evolve(possible_routes):\n",
    "    global distance\n",
    "    tourn_size = 2\n",
    "    mutation_rate = 0.01\n",
    "    population_length = len(possible_routes)\n",
    "    top_best = population_length // 2\n",
    "    new_population = []\n",
    "    \n",
    "    for i in range(top_best):\n",
    "        fittest = fittest_route(possible_routes)\n",
    "        new_population.append(fittest)\n",
    "        possible_routes.remove(fittest)\n",
    "\n",
    "    \n",
    "    for i in range(top_best, population_length):\n",
    "        #print(len(new_population))\n",
    "        parent1 = fittest_route(sample(new_population, tourn_size))\n",
    "        parent2 = fittest_route(sample(new_population, tourn_size))\n",
    "        child = crossover(parent1, parent2)\n",
    "        new_population.append(child)\n",
    "\n",
    "    \n",
    "    for i in range(top_best, population_length):\n",
    "        route = mutate(new_population[i], mutation_rate)\n",
    "        new_population[i] = route\n",
    "\n",
    "    return new_population"
   ]
  },
  {
   "cell_type": "code",
   "execution_count": 14,
   "metadata": {},
   "outputs": [],
   "source": [
    "class Routes:\n",
    "    global distance\n",
    "    def __init__(self, route):\n",
    "        self.route         = route\n",
    "        self.route_length  = 0\n",
    "        self.route_fitness = 0\n",
    "        \n",
    "    @property\n",
    "    def length_of_route(self):\n",
    "        if self.route_length == 0:\n",
    "            self.route_length += length_of_tour(self.route, distance)\n",
    "        return self.route_length\n",
    "    \n",
    "    @property\n",
    "    def fitness_of_route(self):\n",
    "        if self.route_fitness == 0:\n",
    "            self.route_fitness = 1 / self.length_of_route\n",
    "        return self.route_fitness"
   ]
  },
  {
   "cell_type": "code",
   "execution_count": 15,
   "metadata": {},
   "outputs": [],
   "source": [
    "def geneticAlgorithm():\n",
    "    global distance\n",
    "    filename             = 'data/eil76.tsp.gz'\n",
    "    data                 = readData(filename)\n",
    "    \n",
    "    start_time = time.time()\n",
    "    \n",
    "    data_transpose       = data[:, np.newaxis]\n",
    "    difference           = np.square(data_transpose - data)\n",
    "    distance             = np.sqrt(difference.sum(axis=2))\n",
    "    \n",
    "    length = len(data)\n",
    "    population_size = 1000\n",
    "    Initial_tour    = list(range(length))\n",
    "    \n",
    "    possible_routes = []\n",
    "    for i in range(population_size):\n",
    "        possible_routes.append(Routes(sample(Initial_tour, len(Initial_tour))))\n",
    "    \n",
    "    all_tours = []\n",
    "    all_tour_distances = []\n",
    "    fittest = fittest_route(possible_routes)\n",
    "    route_length = fittest.length_of_route\n",
    "    all_tour_distances.append(fittest.route_length)\n",
    "    generation = 0\n",
    "    number_of_gen_equal = 20\n",
    "    min_tour_distance = maxsize\n",
    "    new_population = possible_routes\n",
    "    while generation < number_of_gen_equal:\n",
    "        \n",
    "        new_population = evolve(new_population)\n",
    "        fittest = fittest_route(new_population)\n",
    "        route_length = fittest.length_of_route\n",
    "        min_dist = fittest.route_length\n",
    "        if min_tour_distance > min_dist:\n",
    "            generation = 0\n",
    "            min_tour_distance = min_dist\n",
    "        else:\n",
    "            generation += 1\n",
    "        #print(min_dist)\n",
    "        all_tour_distances.append(min_dist)\n",
    "        all_tours.append(fittest.route)\n",
    "        \n",
    "    best_route = fittest.route\n",
    "    \n",
    "    print(\"Execution time:  %s seconds ---\" % (time.time() - start_time))\n",
    "    print(\"Distance of Best Tour found: \", all_tour_distances[-1])\n",
    "    print(\"Plot for population_size: %d, number_of_gen_equal: %d\" %(population_size, number_of_gen_equal))\n",
    "    plt.plot([i for i in range(len(all_tour_distances))], all_tour_distances)\n",
    "    line_init = plt.axhline(y=all_tour_distances[0], color='r', linestyle='--')\n",
    "    line_min = plt.axhline(y=min_tour_distance, color='g', linestyle='--')\n",
    "    plt.legend([line_init, line_min], ['Initial_tour_distance', 'Optimized_tour_distance'])\n",
    "    x = [i for i in range(len(all_tour_distances))]\n",
    "    plt.title(\"Genetic Algorithm\")\n",
    "    plt.text(x[len(x)//2], all_tour_distances[10], 'min cost: {} KM'.format(round(all_tour_distances[-1])), ha='center', va='center')\n",
    "    plt.ylabel('Tour_length')\n",
    "    plt.xlabel('Number of Rounds')\n",
    "    \n",
    "    plt.show()\n",
    "    \n",
    "    return best_route, all_tour_distances, data, all_tours"
   ]
  },
  {
   "cell_type": "code",
   "execution_count": 18,
   "metadata": {},
   "outputs": [
    {
     "name": "stdout",
     "output_type": "stream",
     "text": [
      "Execution time:  131.88026475906372 seconds ---\n",
      "Distance of Best Tour found:  702.2471777959539\n",
      "Plot for population_size: 1000, number_of_gen_equal: 20\n"
     ]
    },
    {
     "data": {
      "image/png": "[encoded data removed]",
      "text/plain": [
       "<Figure size 432x288 with 1 Axes>"
      ]
     },
     "metadata": {
      "needs_background": "light"
     },
     "output_type": "display_data"
    }
   ],
   "source": [
    "best_tour, all_tour_distances, data, all_tours = geneticAlgorithm()"
   ]
  },
  {
   "cell_type": "code",
   "execution_count": 19,
   "metadata": {},
   "outputs": [],
   "source": [
    "def visualize(history, points):\n",
    "    \n",
    "    key_frames_mult = len(history) // 100\n",
    "    fig, ax = plt.subplots()\n",
    "    line, = plt.plot([], [], lw=2)\n",
    "\n",
    "    def init():\n",
    "        x = [points[i][0] for i in history[0]]\n",
    "        y = [points[i][1] for i in history[0]]\n",
    "        plt.plot(x, y, 'co')\n",
    "        extra_x = (max(x) - min(x)) * 0.05\n",
    "        extra_y = (max(y) - min(y)) * 0.05\n",
    "        ax.set_xlim(min(x) - extra_x, max(x) + extra_x)\n",
    "        ax.set_ylim(min(y) - extra_y, max(y) + extra_y)\n",
    "        ax.set_title(\"Visualization of tour for Genetic Algorithm\")\n",
    "        line.set_data([], [])\n",
    "        return line,\n",
    "\n",
    "    def update(frame):\n",
    "        x = [points[i, 0] for i in history[frame] + [history[frame][0]]]\n",
    "        y = [points[i, 1] for i in history[frame] + [history[frame][0]]]\n",
    "        \n",
    "        line.set_data(x, y)\n",
    "        return line\n",
    "\n",
    "\n",
    "    anim = FuncAnimation(fig, update, frames=range(0, len(history), key_frames_mult),\n",
    "                        init_func=init, interval=30, repeat=False)\n",
    "    \n",
    "    anim.save('file.png', fps=10)\n",
    "    plt.show()"
   ]
  },
  {
   "cell_type": "code",
   "execution_count": 20,
   "metadata": {},
   "outputs": [
    {
     "name": "stderr",
     "output_type": "stream",
     "text": [
      "MovieWriter ffmpeg unavailable; using Pillow instead.\n"
     ]
    },
    {
     "data": {
      "image/png": "[encoded data removed]",
      "text/plain": [
       "<Figure size 432x288 with 1 Axes>"
      ]
     },
     "metadata": {
      "needs_background": "light"
     },
     "output_type": "display_data"
    }
   ],
   "source": [
    "visualize(all_tours, data)"
   ]
  }
 ],
 "metadata": {
  "kernelspec": {
   "display_name": "Python 3",
   "language": "python",
   "name": "python3"
  },
  "language_info": {
   "codemirror_mode": {
    "name": "ipython",
    "version": 3
   },
   "file_extension": ".py",
   "mimetype": "text/x-python",
   "name": "python",
   "nbconvert_exporter": "python",
   "pygments_lexer": "ipython3",
   "version": "3.8.3"
  }
 },
 "nbformat": 4,
 "nbformat_minor": 4
}
